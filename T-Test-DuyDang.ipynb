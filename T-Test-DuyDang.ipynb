{
 "cells": [
  {
   "cell_type": "markdown",
   "metadata": {},
   "source": [
    "# 1. Introduction : This exercise is to analyze employee data. Consider which features affect the employee's attrition (resign or not resign)"
   ]
  },
  {
   "cell_type": "code",
   "execution_count": 1,
   "metadata": {},
   "outputs": [],
   "source": [
    "import pandas as pd"
   ]
  },
  {
   "cell_type": "code",
   "execution_count": 2,
   "metadata": {},
   "outputs": [],
   "source": [
    "import numpy as np\n",
    "from scipy import stats\n",
    "import matplotlib.pyplot as plt\n",
    "%matplotlib inline"
   ]
  },
  {
   "cell_type": "code",
   "execution_count": 3,
   "metadata": {},
   "outputs": [],
   "source": [
    "data=pd.read_csv(\"WA_Fn-UseC_-HR-Employee-Attrition.csv\")"
   ]
  },
  {
   "cell_type": "markdown",
   "metadata": {},
   "source": [
    "# 2. Describing data set "
   ]
  },
  {
   "cell_type": "code",
   "execution_count": 4,
   "metadata": {},
   "outputs": [
    {
     "data": {
      "text/plain": [
       "(1470, 35)"
      ]
     },
     "execution_count": 4,
     "metadata": {},
     "output_type": "execute_result"
    }
   ],
   "source": [
    "data.shape"
   ]
  },
  {
   "cell_type": "markdown",
   "metadata": {},
   "source": [
    "<h1>There are 1407 rows and 35 columns. This sample is large enough for testing.</h1>"
   ]
  },
  {
   "cell_type": "code",
   "execution_count": 5,
   "metadata": {},
   "outputs": [
    {
     "data": {
      "text/plain": [
       "<bound method NDFrame.head of       Age Attrition     BusinessTravel  DailyRate              Department  \\\n",
       "0      41       Yes      Travel_Rarely       1102                   Sales   \n",
       "1      49        No  Travel_Frequently        279  Research & Development   \n",
       "2      37       Yes      Travel_Rarely       1373  Research & Development   \n",
       "3      33        No  Travel_Frequently       1392  Research & Development   \n",
       "4      27        No      Travel_Rarely        591  Research & Development   \n",
       "5      32        No  Travel_Frequently       1005  Research & Development   \n",
       "6      59        No      Travel_Rarely       1324  Research & Development   \n",
       "7      30        No      Travel_Rarely       1358  Research & Development   \n",
       "8      38        No  Travel_Frequently        216  Research & Development   \n",
       "9      36        No      Travel_Rarely       1299  Research & Development   \n",
       "10     35        No      Travel_Rarely        809  Research & Development   \n",
       "11     29        No      Travel_Rarely        153  Research & Development   \n",
       "12     31        No      Travel_Rarely        670  Research & Development   \n",
       "13     34        No      Travel_Rarely       1346  Research & Development   \n",
       "14     28       Yes      Travel_Rarely        103  Research & Development   \n",
       "15     29        No      Travel_Rarely       1389  Research & Development   \n",
       "16     32        No      Travel_Rarely        334  Research & Development   \n",
       "17     22        No         Non-Travel       1123  Research & Development   \n",
       "18     53        No      Travel_Rarely       1219                   Sales   \n",
       "19     38        No      Travel_Rarely        371  Research & Development   \n",
       "20     24        No         Non-Travel        673  Research & Development   \n",
       "21     36       Yes      Travel_Rarely       1218                   Sales   \n",
       "22     34        No      Travel_Rarely        419  Research & Development   \n",
       "23     21        No      Travel_Rarely        391  Research & Development   \n",
       "24     34       Yes      Travel_Rarely        699  Research & Development   \n",
       "25     53        No      Travel_Rarely       1282  Research & Development   \n",
       "26     32       Yes  Travel_Frequently       1125  Research & Development   \n",
       "27     42        No      Travel_Rarely        691                   Sales   \n",
       "28     44        No      Travel_Rarely        477  Research & Development   \n",
       "29     46        No      Travel_Rarely        705                   Sales   \n",
       "...   ...       ...                ...        ...                     ...   \n",
       "1440   36        No  Travel_Frequently        688  Research & Development   \n",
       "1441   56        No         Non-Travel        667  Research & Development   \n",
       "1442   29       Yes      Travel_Rarely       1092  Research & Development   \n",
       "1443   42        No      Travel_Rarely        300  Research & Development   \n",
       "1444   56       Yes      Travel_Rarely        310  Research & Development   \n",
       "1445   41        No      Travel_Rarely        582  Research & Development   \n",
       "1446   34        No      Travel_Rarely        704                   Sales   \n",
       "1447   36        No         Non-Travel        301                   Sales   \n",
       "1448   41        No      Travel_Rarely        930                   Sales   \n",
       "1449   32        No      Travel_Rarely        529  Research & Development   \n",
       "1450   35        No      Travel_Rarely       1146         Human Resources   \n",
       "1451   38        No      Travel_Rarely        345                   Sales   \n",
       "1452   50       Yes  Travel_Frequently        878                   Sales   \n",
       "1453   36        No      Travel_Rarely       1120                   Sales   \n",
       "1454   45        No      Travel_Rarely        374                   Sales   \n",
       "1455   40        No      Travel_Rarely       1322  Research & Development   \n",
       "1456   35        No  Travel_Frequently       1199  Research & Development   \n",
       "1457   40        No      Travel_Rarely       1194  Research & Development   \n",
       "1458   35        No      Travel_Rarely        287  Research & Development   \n",
       "1459   29        No      Travel_Rarely       1378  Research & Development   \n",
       "1460   29        No      Travel_Rarely        468  Research & Development   \n",
       "1461   50       Yes      Travel_Rarely        410                   Sales   \n",
       "1462   39        No      Travel_Rarely        722                   Sales   \n",
       "1463   31        No         Non-Travel        325  Research & Development   \n",
       "1464   26        No      Travel_Rarely       1167                   Sales   \n",
       "1465   36        No  Travel_Frequently        884  Research & Development   \n",
       "1466   39        No      Travel_Rarely        613  Research & Development   \n",
       "1467   27        No      Travel_Rarely        155  Research & Development   \n",
       "1468   49        No  Travel_Frequently       1023                   Sales   \n",
       "1469   34        No      Travel_Rarely        628  Research & Development   \n",
       "\n",
       "      DistanceFromHome  Education    EducationField  EmployeeCount  \\\n",
       "0                    1          2     Life Sciences              1   \n",
       "1                    8          1     Life Sciences              1   \n",
       "2                    2          2             Other              1   \n",
       "3                    3          4     Life Sciences              1   \n",
       "4                    2          1           Medical              1   \n",
       "5                    2          2     Life Sciences              1   \n",
       "6                    3          3           Medical              1   \n",
       "7                   24          1     Life Sciences              1   \n",
       "8                   23          3     Life Sciences              1   \n",
       "9                   27          3           Medical              1   \n",
       "10                  16          3           Medical              1   \n",
       "11                  15          2     Life Sciences              1   \n",
       "12                  26          1     Life Sciences              1   \n",
       "13                  19          2           Medical              1   \n",
       "14                  24          3     Life Sciences              1   \n",
       "15                  21          4     Life Sciences              1   \n",
       "16                   5          2     Life Sciences              1   \n",
       "17                  16          2           Medical              1   \n",
       "18                   2          4     Life Sciences              1   \n",
       "19                   2          3     Life Sciences              1   \n",
       "20                  11          2             Other              1   \n",
       "21                   9          4     Life Sciences              1   \n",
       "22                   7          4     Life Sciences              1   \n",
       "23                  15          2     Life Sciences              1   \n",
       "24                   6          1           Medical              1   \n",
       "25                   5          3             Other              1   \n",
       "26                  16          1     Life Sciences              1   \n",
       "27                   8          4         Marketing              1   \n",
       "28                   7          4           Medical              1   \n",
       "29                   2          4         Marketing              1   \n",
       "...                ...        ...               ...            ...   \n",
       "1440                 4          2     Life Sciences              1   \n",
       "1441                 1          4     Life Sciences              1   \n",
       "1442                 1          4           Medical              1   \n",
       "1443                 2          3     Life Sciences              1   \n",
       "1444                 7          2  Technical Degree              1   \n",
       "1445                28          4     Life Sciences              1   \n",
       "1446                28          3         Marketing              1   \n",
       "1447                15          4         Marketing              1   \n",
       "1448                 3          3     Life Sciences              1   \n",
       "1449                 2          3  Technical Degree              1   \n",
       "1450                26          4     Life Sciences              1   \n",
       "1451                10          2     Life Sciences              1   \n",
       "1452                 1          4     Life Sciences              1   \n",
       "1453                11          4         Marketing              1   \n",
       "1454                20          3     Life Sciences              1   \n",
       "1455                 2          4     Life Sciences              1   \n",
       "1456                18          4     Life Sciences              1   \n",
       "1457                 2          4           Medical              1   \n",
       "1458                 1          4     Life Sciences              1   \n",
       "1459                13          2             Other              1   \n",
       "1460                28          4           Medical              1   \n",
       "1461                28          3         Marketing              1   \n",
       "1462                24          1         Marketing              1   \n",
       "1463                 5          3           Medical              1   \n",
       "1464                 5          3             Other              1   \n",
       "1465                23          2           Medical              1   \n",
       "1466                 6          1           Medical              1   \n",
       "1467                 4          3     Life Sciences              1   \n",
       "1468                 2          3           Medical              1   \n",
       "1469                 8          3           Medical              1   \n",
       "\n",
       "      EmployeeNumber  ...  RelationshipSatisfaction StandardHours  \\\n",
       "0                  1  ...                         1            80   \n",
       "1                  2  ...                         4            80   \n",
       "2                  4  ...                         2            80   \n",
       "3                  5  ...                         3            80   \n",
       "4                  7  ...                         4            80   \n",
       "5                  8  ...                         3            80   \n",
       "6                 10  ...                         1            80   \n",
       "7                 11  ...                         2            80   \n",
       "8                 12  ...                         2            80   \n",
       "9                 13  ...                         2            80   \n",
       "10                14  ...                         3            80   \n",
       "11                15  ...                         4            80   \n",
       "12                16  ...                         4            80   \n",
       "13                18  ...                         3            80   \n",
       "14                19  ...                         2            80   \n",
       "15                20  ...                         3            80   \n",
       "16                21  ...                         4            80   \n",
       "17                22  ...                         2            80   \n",
       "18                23  ...                         3            80   \n",
       "19                24  ...                         3            80   \n",
       "20                26  ...                         4            80   \n",
       "21                27  ...                         2            80   \n",
       "22                28  ...                         3            80   \n",
       "23                30  ...                         4            80   \n",
       "24                31  ...                         3            80   \n",
       "25                32  ...                         4            80   \n",
       "26                33  ...                         2            80   \n",
       "27                35  ...                         4            80   \n",
       "28                36  ...                         4            80   \n",
       "29                38  ...                         4            80   \n",
       "...              ...  ...                       ...           ...   \n",
       "1440            2025  ...                         2            80   \n",
       "1441            2026  ...                         1            80   \n",
       "1442            2027  ...                         2            80   \n",
       "1443            2031  ...                         1            80   \n",
       "1444            2032  ...                         4            80   \n",
       "1445            2034  ...                         3            80   \n",
       "1446            2035  ...                         4            80   \n",
       "1447            2036  ...                         1            80   \n",
       "1448            2037  ...                         3            80   \n",
       "1449            2038  ...                         4            80   \n",
       "1450            2040  ...                         3            80   \n",
       "1451            2041  ...                         3            80   \n",
       "1452            2044  ...                         4            80   \n",
       "1453            2045  ...                         1            80   \n",
       "1454            2046  ...                         3            80   \n",
       "1455            2048  ...                         4            80   \n",
       "1456            2049  ...                         4            80   \n",
       "1457            2051  ...                         2            80   \n",
       "1458            2052  ...                         4            80   \n",
       "1459            2053  ...                         1            80   \n",
       "1460            2054  ...                         2            80   \n",
       "1461            2055  ...                         2            80   \n",
       "1462            2056  ...                         1            80   \n",
       "1463            2057  ...                         2            80   \n",
       "1464            2060  ...                         4            80   \n",
       "1465            2061  ...                         3            80   \n",
       "1466            2062  ...                         1            80   \n",
       "1467            2064  ...                         2            80   \n",
       "1468            2065  ...                         4            80   \n",
       "1469            2068  ...                         1            80   \n",
       "\n",
       "      StockOptionLevel  TotalWorkingYears  TrainingTimesLastYear  \\\n",
       "0                    0                  8                      0   \n",
       "1                    1                 10                      3   \n",
       "2                    0                  7                      3   \n",
       "3                    0                  8                      3   \n",
       "4                    1                  6                      3   \n",
       "5                    0                  8                      2   \n",
       "6                    3                 12                      3   \n",
       "7                    1                  1                      2   \n",
       "8                    0                 10                      2   \n",
       "9                    2                 17                      3   \n",
       "10                   1                  6                      5   \n",
       "11                   0                 10                      3   \n",
       "12                   1                  5                      1   \n",
       "13                   1                  3                      2   \n",
       "14                   0                  6                      4   \n",
       "15                   1                 10                      1   \n",
       "16                   2                  7                      5   \n",
       "17                   2                  1                      2   \n",
       "18                   0                 31                      3   \n",
       "19                   0                  6                      3   \n",
       "20                   1                  5                      5   \n",
       "21                   0                 10                      4   \n",
       "22                   0                 13                      4   \n",
       "23                   0                  0                      6   \n",
       "24                   0                  8                      2   \n",
       "25                   1                 26                      3   \n",
       "26                   0                 10                      5   \n",
       "27                   1                 10                      2   \n",
       "28                   1                 24                      4   \n",
       "29                   0                 22                      2   \n",
       "...                ...                ...                    ...   \n",
       "1440                 3                 18                      3   \n",
       "1441                 1                 13                      2   \n",
       "1442                 3                  4                      3   \n",
       "1443                 0                 24                      2   \n",
       "1444                 1                 14                      4   \n",
       "1445                 1                 21                      3   \n",
       "1446                 2                  8                      2   \n",
       "1447                 1                 15                      4   \n",
       "1448                 1                 14                      5   \n",
       "1449                 0                  4                      4   \n",
       "1450                 0                  9                      2   \n",
       "1451                 1                 10                      1   \n",
       "1452                 2                 12                      3   \n",
       "1453                 1                  8                      2   \n",
       "1454                 0                  8                      3   \n",
       "1455                 0                  8                      2   \n",
       "1456                 2                 10                      2   \n",
       "1457                 3                 20                      2   \n",
       "1458                 1                  4                      5   \n",
       "1459                 1                 10                      2   \n",
       "1460                 0                  5                      3   \n",
       "1461                 1                 20                      3   \n",
       "1462                 1                 21                      2   \n",
       "1463                 0                 10                      2   \n",
       "1464                 0                  5                      2   \n",
       "1465                 1                 17                      3   \n",
       "1466                 1                  9                      5   \n",
       "1467                 1                  6                      0   \n",
       "1468                 0                 17                      3   \n",
       "1469                 0                  6                      3   \n",
       "\n",
       "     WorkLifeBalance  YearsAtCompany YearsInCurrentRole  \\\n",
       "0                  1               6                  4   \n",
       "1                  3              10                  7   \n",
       "2                  3               0                  0   \n",
       "3                  3               8                  7   \n",
       "4                  3               2                  2   \n",
       "5                  2               7                  7   \n",
       "6                  2               1                  0   \n",
       "7                  3               1                  0   \n",
       "8                  3               9                  7   \n",
       "9                  2               7                  7   \n",
       "10                 3               5                  4   \n",
       "11                 3               9                  5   \n",
       "12                 2               5                  2   \n",
       "13                 3               2                  2   \n",
       "14                 3               4                  2   \n",
       "15                 3              10                  9   \n",
       "16                 2               6                  2   \n",
       "17                 2               1                  0   \n",
       "18                 3              25                  8   \n",
       "19                 3               3                  2   \n",
       "20                 2               4                  2   \n",
       "21                 3               5                  3   \n",
       "22                 3              12                  6   \n",
       "23                 3               0                  0   \n",
       "24                 3               4                  2   \n",
       "25                 2              14                 13   \n",
       "26                 3              10                  2   \n",
       "27                 3               9                  7   \n",
       "28                 3              22                  6   \n",
       "29                 2               2                  2   \n",
       "...              ...             ...                ...   \n",
       "1440               3               4                  2   \n",
       "1441               2              13                 12   \n",
       "1442               4               2                  2   \n",
       "1443               2              22                  6   \n",
       "1444               1              10                  9   \n",
       "1445               3              20                  7   \n",
       "1446               3               8                  7   \n",
       "1447               2              15                 12   \n",
       "1448               3               5                  4   \n",
       "1449               3               4                  2   \n",
       "1450               3               9                  0   \n",
       "1451               3              10                  7   \n",
       "1452               3               6                  3   \n",
       "1453               2               6                  3   \n",
       "1454               3               5                  3   \n",
       "1455               3               2                  2   \n",
       "1456               4              10                  2   \n",
       "1457               3               5                  3   \n",
       "1458               3               4                  3   \n",
       "1459               3               4                  3   \n",
       "1460               1               5                  4   \n",
       "1461               3               3                  2   \n",
       "1462               2              20                  9   \n",
       "1463               3               9                  4   \n",
       "1464               3               4                  2   \n",
       "1465               3               5                  2   \n",
       "1466               3               7                  7   \n",
       "1467               3               6                  2   \n",
       "1468               2               9                  6   \n",
       "1469               4               4                  3   \n",
       "\n",
       "      YearsSinceLastPromotion  YearsWithCurrManager  \n",
       "0                           0                     5  \n",
       "1                           1                     7  \n",
       "2                           0                     0  \n",
       "3                           3                     0  \n",
       "4                           2                     2  \n",
       "5                           3                     6  \n",
       "6                           0                     0  \n",
       "7                           0                     0  \n",
       "8                           1                     8  \n",
       "9                           7                     7  \n",
       "10                          0                     3  \n",
       "11                          0                     8  \n",
       "12                          4                     3  \n",
       "13                          1                     2  \n",
       "14                          0                     3  \n",
       "15                          8                     8  \n",
       "16                          0                     5  \n",
       "17                          0                     0  \n",
       "18                          3                     7  \n",
       "19                          1                     2  \n",
       "20                          1                     3  \n",
       "21                          0                     3  \n",
       "22                          2                    11  \n",
       "23                          0                     0  \n",
       "24                          1                     3  \n",
       "25                          4                     8  \n",
       "26                          6                     7  \n",
       "27                          4                     2  \n",
       "28                          5                    17  \n",
       "29                          2                     1  \n",
       "...                       ...                   ...  \n",
       "1440                        0                     2  \n",
       "1441                        1                     9  \n",
       "1442                        2                     2  \n",
       "1443                        4                    14  \n",
       "1444                        9                     8  \n",
       "1445                        0                    10  \n",
       "1446                        1                     7  \n",
       "1447                       11                    11  \n",
       "1448                        0                     4  \n",
       "1449                        1                     2  \n",
       "1450                        1                     7  \n",
       "1451                        1                     9  \n",
       "1452                        0                     1  \n",
       "1453                        0                     0  \n",
       "1454                        0                     1  \n",
       "1455                        2                     2  \n",
       "1456                        0                     2  \n",
       "1457                        0                     2  \n",
       "1458                        1                     1  \n",
       "1459                        0                     3  \n",
       "1460                        0                     4  \n",
       "1461                        2                     0  \n",
       "1462                        9                     6  \n",
       "1463                        1                     7  \n",
       "1464                        0                     0  \n",
       "1465                        0                     3  \n",
       "1466                        1                     7  \n",
       "1467                        0                     3  \n",
       "1468                        0                     8  \n",
       "1469                        1                     2  \n",
       "\n",
       "[1470 rows x 35 columns]>"
      ]
     },
     "execution_count": 5,
     "metadata": {},
     "output_type": "execute_result"
    }
   ],
   "source": [
    "data.head"
   ]
  },
  {
   "cell_type": "code",
   "execution_count": 6,
   "metadata": {
    "scrolled": true
   },
   "outputs": [
    {
     "data": {
      "text/plain": [
       "Age                          int64\n",
       "Attrition                   object\n",
       "BusinessTravel              object\n",
       "DailyRate                    int64\n",
       "Department                  object\n",
       "DistanceFromHome             int64\n",
       "Education                    int64\n",
       "EducationField              object\n",
       "EmployeeCount                int64\n",
       "EmployeeNumber               int64\n",
       "EnvironmentSatisfaction      int64\n",
       "Gender                      object\n",
       "HourlyRate                   int64\n",
       "JobInvolvement               int64\n",
       "JobLevel                     int64\n",
       "JobRole                     object\n",
       "JobSatisfaction              int64\n",
       "MaritalStatus               object\n",
       "MonthlyIncome                int64\n",
       "MonthlyRate                  int64\n",
       "NumCompaniesWorked           int64\n",
       "Over18                      object\n",
       "OverTime                    object\n",
       "PercentSalaryHike            int64\n",
       "PerformanceRating            int64\n",
       "RelationshipSatisfaction     int64\n",
       "StandardHours                int64\n",
       "StockOptionLevel             int64\n",
       "TotalWorkingYears            int64\n",
       "TrainingTimesLastYear        int64\n",
       "WorkLifeBalance              int64\n",
       "YearsAtCompany               int64\n",
       "YearsInCurrentRole           int64\n",
       "YearsSinceLastPromotion      int64\n",
       "YearsWithCurrManager         int64\n",
       "dtype: object"
      ]
     },
     "execution_count": 6,
     "metadata": {},
     "output_type": "execute_result"
    }
   ],
   "source": [
    "data.dtypes"
   ]
  },
  {
   "cell_type": "code",
   "execution_count": 7,
   "metadata": {
    "scrolled": true
   },
   "outputs": [
    {
     "data": {
      "text/html": [
       "<div>\n",
       "<style scoped>\n",
       "    .dataframe tbody tr th:only-of-type {\n",
       "        vertical-align: middle;\n",
       "    }\n",
       "\n",
       "    .dataframe tbody tr th {\n",
       "        vertical-align: top;\n",
       "    }\n",
       "\n",
       "    .dataframe thead th {\n",
       "        text-align: right;\n",
       "    }\n",
       "</style>\n",
       "<table border=\"1\" class=\"dataframe\">\n",
       "  <thead>\n",
       "    <tr style=\"text-align: right;\">\n",
       "      <th></th>\n",
       "      <th>Age</th>\n",
       "      <th>DailyRate</th>\n",
       "      <th>DistanceFromHome</th>\n",
       "      <th>Education</th>\n",
       "      <th>EmployeeCount</th>\n",
       "      <th>EmployeeNumber</th>\n",
       "      <th>EnvironmentSatisfaction</th>\n",
       "      <th>HourlyRate</th>\n",
       "      <th>JobInvolvement</th>\n",
       "      <th>JobLevel</th>\n",
       "      <th>...</th>\n",
       "      <th>RelationshipSatisfaction</th>\n",
       "      <th>StandardHours</th>\n",
       "      <th>StockOptionLevel</th>\n",
       "      <th>TotalWorkingYears</th>\n",
       "      <th>TrainingTimesLastYear</th>\n",
       "      <th>WorkLifeBalance</th>\n",
       "      <th>YearsAtCompany</th>\n",
       "      <th>YearsInCurrentRole</th>\n",
       "      <th>YearsSinceLastPromotion</th>\n",
       "      <th>YearsWithCurrManager</th>\n",
       "    </tr>\n",
       "  </thead>\n",
       "  <tbody>\n",
       "    <tr>\n",
       "      <th>count</th>\n",
       "      <td>1470.000000</td>\n",
       "      <td>1470.000000</td>\n",
       "      <td>1470.000000</td>\n",
       "      <td>1470.000000</td>\n",
       "      <td>1470.0</td>\n",
       "      <td>1470.000000</td>\n",
       "      <td>1470.000000</td>\n",
       "      <td>1470.000000</td>\n",
       "      <td>1470.000000</td>\n",
       "      <td>1470.000000</td>\n",
       "      <td>...</td>\n",
       "      <td>1470.000000</td>\n",
       "      <td>1470.0</td>\n",
       "      <td>1470.000000</td>\n",
       "      <td>1470.000000</td>\n",
       "      <td>1470.000000</td>\n",
       "      <td>1470.000000</td>\n",
       "      <td>1470.000000</td>\n",
       "      <td>1470.000000</td>\n",
       "      <td>1470.000000</td>\n",
       "      <td>1470.000000</td>\n",
       "    </tr>\n",
       "    <tr>\n",
       "      <th>mean</th>\n",
       "      <td>36.923810</td>\n",
       "      <td>802.485714</td>\n",
       "      <td>9.192517</td>\n",
       "      <td>2.912925</td>\n",
       "      <td>1.0</td>\n",
       "      <td>1024.865306</td>\n",
       "      <td>2.721769</td>\n",
       "      <td>65.891156</td>\n",
       "      <td>2.729932</td>\n",
       "      <td>2.063946</td>\n",
       "      <td>...</td>\n",
       "      <td>2.712245</td>\n",
       "      <td>80.0</td>\n",
       "      <td>0.793878</td>\n",
       "      <td>11.279592</td>\n",
       "      <td>2.799320</td>\n",
       "      <td>2.761224</td>\n",
       "      <td>7.008163</td>\n",
       "      <td>4.229252</td>\n",
       "      <td>2.187755</td>\n",
       "      <td>4.123129</td>\n",
       "    </tr>\n",
       "    <tr>\n",
       "      <th>std</th>\n",
       "      <td>9.135373</td>\n",
       "      <td>403.509100</td>\n",
       "      <td>8.106864</td>\n",
       "      <td>1.024165</td>\n",
       "      <td>0.0</td>\n",
       "      <td>602.024335</td>\n",
       "      <td>1.093082</td>\n",
       "      <td>20.329428</td>\n",
       "      <td>0.711561</td>\n",
       "      <td>1.106940</td>\n",
       "      <td>...</td>\n",
       "      <td>1.081209</td>\n",
       "      <td>0.0</td>\n",
       "      <td>0.852077</td>\n",
       "      <td>7.780782</td>\n",
       "      <td>1.289271</td>\n",
       "      <td>0.706476</td>\n",
       "      <td>6.126525</td>\n",
       "      <td>3.623137</td>\n",
       "      <td>3.222430</td>\n",
       "      <td>3.568136</td>\n",
       "    </tr>\n",
       "    <tr>\n",
       "      <th>min</th>\n",
       "      <td>18.000000</td>\n",
       "      <td>102.000000</td>\n",
       "      <td>1.000000</td>\n",
       "      <td>1.000000</td>\n",
       "      <td>1.0</td>\n",
       "      <td>1.000000</td>\n",
       "      <td>1.000000</td>\n",
       "      <td>30.000000</td>\n",
       "      <td>1.000000</td>\n",
       "      <td>1.000000</td>\n",
       "      <td>...</td>\n",
       "      <td>1.000000</td>\n",
       "      <td>80.0</td>\n",
       "      <td>0.000000</td>\n",
       "      <td>0.000000</td>\n",
       "      <td>0.000000</td>\n",
       "      <td>1.000000</td>\n",
       "      <td>0.000000</td>\n",
       "      <td>0.000000</td>\n",
       "      <td>0.000000</td>\n",
       "      <td>0.000000</td>\n",
       "    </tr>\n",
       "    <tr>\n",
       "      <th>25%</th>\n",
       "      <td>30.000000</td>\n",
       "      <td>465.000000</td>\n",
       "      <td>2.000000</td>\n",
       "      <td>2.000000</td>\n",
       "      <td>1.0</td>\n",
       "      <td>491.250000</td>\n",
       "      <td>2.000000</td>\n",
       "      <td>48.000000</td>\n",
       "      <td>2.000000</td>\n",
       "      <td>1.000000</td>\n",
       "      <td>...</td>\n",
       "      <td>2.000000</td>\n",
       "      <td>80.0</td>\n",
       "      <td>0.000000</td>\n",
       "      <td>6.000000</td>\n",
       "      <td>2.000000</td>\n",
       "      <td>2.000000</td>\n",
       "      <td>3.000000</td>\n",
       "      <td>2.000000</td>\n",
       "      <td>0.000000</td>\n",
       "      <td>2.000000</td>\n",
       "    </tr>\n",
       "    <tr>\n",
       "      <th>50%</th>\n",
       "      <td>36.000000</td>\n",
       "      <td>802.000000</td>\n",
       "      <td>7.000000</td>\n",
       "      <td>3.000000</td>\n",
       "      <td>1.0</td>\n",
       "      <td>1020.500000</td>\n",
       "      <td>3.000000</td>\n",
       "      <td>66.000000</td>\n",
       "      <td>3.000000</td>\n",
       "      <td>2.000000</td>\n",
       "      <td>...</td>\n",
       "      <td>3.000000</td>\n",
       "      <td>80.0</td>\n",
       "      <td>1.000000</td>\n",
       "      <td>10.000000</td>\n",
       "      <td>3.000000</td>\n",
       "      <td>3.000000</td>\n",
       "      <td>5.000000</td>\n",
       "      <td>3.000000</td>\n",
       "      <td>1.000000</td>\n",
       "      <td>3.000000</td>\n",
       "    </tr>\n",
       "    <tr>\n",
       "      <th>75%</th>\n",
       "      <td>43.000000</td>\n",
       "      <td>1157.000000</td>\n",
       "      <td>14.000000</td>\n",
       "      <td>4.000000</td>\n",
       "      <td>1.0</td>\n",
       "      <td>1555.750000</td>\n",
       "      <td>4.000000</td>\n",
       "      <td>83.750000</td>\n",
       "      <td>3.000000</td>\n",
       "      <td>3.000000</td>\n",
       "      <td>...</td>\n",
       "      <td>4.000000</td>\n",
       "      <td>80.0</td>\n",
       "      <td>1.000000</td>\n",
       "      <td>15.000000</td>\n",
       "      <td>3.000000</td>\n",
       "      <td>3.000000</td>\n",
       "      <td>9.000000</td>\n",
       "      <td>7.000000</td>\n",
       "      <td>3.000000</td>\n",
       "      <td>7.000000</td>\n",
       "    </tr>\n",
       "    <tr>\n",
       "      <th>max</th>\n",
       "      <td>60.000000</td>\n",
       "      <td>1499.000000</td>\n",
       "      <td>29.000000</td>\n",
       "      <td>5.000000</td>\n",
       "      <td>1.0</td>\n",
       "      <td>2068.000000</td>\n",
       "      <td>4.000000</td>\n",
       "      <td>100.000000</td>\n",
       "      <td>4.000000</td>\n",
       "      <td>5.000000</td>\n",
       "      <td>...</td>\n",
       "      <td>4.000000</td>\n",
       "      <td>80.0</td>\n",
       "      <td>3.000000</td>\n",
       "      <td>40.000000</td>\n",
       "      <td>6.000000</td>\n",
       "      <td>4.000000</td>\n",
       "      <td>40.000000</td>\n",
       "      <td>18.000000</td>\n",
       "      <td>15.000000</td>\n",
       "      <td>17.000000</td>\n",
       "    </tr>\n",
       "  </tbody>\n",
       "</table>\n",
       "<p>8 rows × 26 columns</p>\n",
       "</div>"
      ],
      "text/plain": [
       "               Age    DailyRate  DistanceFromHome    Education  EmployeeCount  \\\n",
       "count  1470.000000  1470.000000       1470.000000  1470.000000         1470.0   \n",
       "mean     36.923810   802.485714          9.192517     2.912925            1.0   \n",
       "std       9.135373   403.509100          8.106864     1.024165            0.0   \n",
       "min      18.000000   102.000000          1.000000     1.000000            1.0   \n",
       "25%      30.000000   465.000000          2.000000     2.000000            1.0   \n",
       "50%      36.000000   802.000000          7.000000     3.000000            1.0   \n",
       "75%      43.000000  1157.000000         14.000000     4.000000            1.0   \n",
       "max      60.000000  1499.000000         29.000000     5.000000            1.0   \n",
       "\n",
       "       EmployeeNumber  EnvironmentSatisfaction   HourlyRate  JobInvolvement  \\\n",
       "count     1470.000000              1470.000000  1470.000000     1470.000000   \n",
       "mean      1024.865306                 2.721769    65.891156        2.729932   \n",
       "std        602.024335                 1.093082    20.329428        0.711561   \n",
       "min          1.000000                 1.000000    30.000000        1.000000   \n",
       "25%        491.250000                 2.000000    48.000000        2.000000   \n",
       "50%       1020.500000                 3.000000    66.000000        3.000000   \n",
       "75%       1555.750000                 4.000000    83.750000        3.000000   \n",
       "max       2068.000000                 4.000000   100.000000        4.000000   \n",
       "\n",
       "          JobLevel  ...  RelationshipSatisfaction  StandardHours  \\\n",
       "count  1470.000000  ...               1470.000000         1470.0   \n",
       "mean      2.063946  ...                  2.712245           80.0   \n",
       "std       1.106940  ...                  1.081209            0.0   \n",
       "min       1.000000  ...                  1.000000           80.0   \n",
       "25%       1.000000  ...                  2.000000           80.0   \n",
       "50%       2.000000  ...                  3.000000           80.0   \n",
       "75%       3.000000  ...                  4.000000           80.0   \n",
       "max       5.000000  ...                  4.000000           80.0   \n",
       "\n",
       "       StockOptionLevel  TotalWorkingYears  TrainingTimesLastYear  \\\n",
       "count       1470.000000        1470.000000            1470.000000   \n",
       "mean           0.793878          11.279592               2.799320   \n",
       "std            0.852077           7.780782               1.289271   \n",
       "min            0.000000           0.000000               0.000000   \n",
       "25%            0.000000           6.000000               2.000000   \n",
       "50%            1.000000          10.000000               3.000000   \n",
       "75%            1.000000          15.000000               3.000000   \n",
       "max            3.000000          40.000000               6.000000   \n",
       "\n",
       "       WorkLifeBalance  YearsAtCompany  YearsInCurrentRole  \\\n",
       "count      1470.000000     1470.000000         1470.000000   \n",
       "mean          2.761224        7.008163            4.229252   \n",
       "std           0.706476        6.126525            3.623137   \n",
       "min           1.000000        0.000000            0.000000   \n",
       "25%           2.000000        3.000000            2.000000   \n",
       "50%           3.000000        5.000000            3.000000   \n",
       "75%           3.000000        9.000000            7.000000   \n",
       "max           4.000000       40.000000           18.000000   \n",
       "\n",
       "       YearsSinceLastPromotion  YearsWithCurrManager  \n",
       "count              1470.000000           1470.000000  \n",
       "mean                  2.187755              4.123129  \n",
       "std                   3.222430              3.568136  \n",
       "min                   0.000000              0.000000  \n",
       "25%                   0.000000              2.000000  \n",
       "50%                   1.000000              3.000000  \n",
       "75%                   3.000000              7.000000  \n",
       "max                  15.000000             17.000000  \n",
       "\n",
       "[8 rows x 26 columns]"
      ]
     },
     "execution_count": 7,
     "metadata": {},
     "output_type": "execute_result"
    }
   ],
   "source": [
    "data.describe()"
   ]
  },
  {
   "cell_type": "markdown",
   "metadata": {},
   "source": [
    "# There is no missing or illogical value in the data set."
   ]
  },
  {
   "cell_type": "code",
   "execution_count": 8,
   "metadata": {},
   "outputs": [
    {
     "data": {
      "text/plain": [
       "0    Yes\n",
       "1     No\n",
       "2    Yes\n",
       "3     No\n",
       "4     No\n",
       "Name: Attrition, dtype: object"
      ]
     },
     "execution_count": 8,
     "metadata": {},
     "output_type": "execute_result"
    }
   ],
   "source": [
    "data['Attrition'].head()"
   ]
  },
  {
   "cell_type": "code",
   "execution_count": 9,
   "metadata": {
    "scrolled": true
   },
   "outputs": [
    {
     "data": {
      "text/plain": [
       "No     1233\n",
       "Yes     237\n",
       "Name: Attrition, dtype: int64"
      ]
     },
     "execution_count": 9,
     "metadata": {},
     "output_type": "execute_result"
    }
   ],
   "source": [
    "data['Attrition'].value_counts()"
   ]
  },
  {
   "cell_type": "code",
   "execution_count": 10,
   "metadata": {},
   "outputs": [],
   "source": [
    "data_att = data['Attrition'].apply(lambda x: 1 if x == 'Yes' else 0)"
   ]
  },
  {
   "cell_type": "code",
   "execution_count": 11,
   "metadata": {
    "scrolled": true
   },
   "outputs": [
    {
     "data": {
      "text/plain": [
       "0    1233\n",
       "1     237\n",
       "Name: Attrition, dtype: int64"
      ]
     },
     "execution_count": 11,
     "metadata": {},
     "output_type": "execute_result"
    }
   ],
   "source": [
    "data_att.value_counts()"
   ]
  },
  {
   "cell_type": "code",
   "execution_count": 12,
   "metadata": {
    "scrolled": true
   },
   "outputs": [
    {
     "data": {
      "text/plain": [
       "count    1470.000000\n",
       "mean        0.161224\n",
       "std         0.367863\n",
       "min         0.000000\n",
       "25%         0.000000\n",
       "50%         0.000000\n",
       "75%         0.000000\n",
       "max         1.000000\n",
       "Name: Attrition, dtype: float64"
      ]
     },
     "execution_count": 12,
     "metadata": {},
     "output_type": "execute_result"
    }
   ],
   "source": [
    "data_att.describe()"
   ]
  },
  {
   "cell_type": "code",
   "execution_count": 13,
   "metadata": {},
   "outputs": [
    {
     "data": {
      "text/plain": [
       "<function matplotlib.pyplot.show(*args, **kw)>"
      ]
     },
     "execution_count": 13,
     "metadata": {},
     "output_type": "execute_result"
    },
    {
     "data": {
      "image/png": "[encoded data removed]",
      "text/plain": [
       "<Figure size 432x288 with 1 Axes>"
      ]
     },
     "metadata": {
      "needs_background": "light"
     },
     "output_type": "display_data"
    }
   ],
   "source": [
    "bins_att = np.arange(start=0, stop=2, step=0.5)\n",
    "plt.hist(data_att, bins = bins_att,label=['Attrition'])\n",
    "plt.title('Distance From Home chart')\n",
    "plt.xlabel(\"DistanceFromHome\")\n",
    "plt.ylabel(\"Freq\")\n",
    "plt.legend(loc='upper right')\n",
    "plt.show"
   ]
  },
  {
   "cell_type": "code",
   "execution_count": 14,
   "metadata": {},
   "outputs": [
    {
     "data": {
      "text/plain": [
       "<function matplotlib.pyplot.show(*args, **kw)>"
      ]
     },
     "execution_count": 14,
     "metadata": {},
     "output_type": "execute_result"
    },
    {
     "data": {
      "image/png": "[encoded data removed]",
      "text/plain": [
       "<Figure size 432x288 with 1 Axes>"
      ]
     },
     "metadata": {},
     "output_type": "display_data"
    }
   ],
   "source": [
    "sizes_attrition = [data_att.value_counts()[1], data_att.value_counts()[0]]\n",
    "plt.pie(sizes_attrition, labels=['Yes', 'No'], autopct='%.3f%%')\n",
    "plt.title('Attrition')\n",
    "plt.show"
   ]
  },
  {
   "cell_type": "markdown",
   "metadata": {},
   "source": [
    "# 3. What are key factors that are playing into current attrition rates?"
   ]
  },
  {
   "cell_type": "markdown",
   "metadata": {},
   "source": [
    "# 3.1. Distance from home :"
   ]
  },
  {
   "cell_type": "code",
   "execution_count": 15,
   "metadata": {
    "scrolled": false
   },
   "outputs": [
    {
     "data": {
      "text/plain": [
       "0    1\n",
       "1    8\n",
       "2    2\n",
       "3    3\n",
       "4    2\n",
       "Name: DistanceFromHome, dtype: int64"
      ]
     },
     "execution_count": 15,
     "metadata": {},
     "output_type": "execute_result"
    }
   ],
   "source": [
    "data['DistanceFromHome'].head()"
   ]
  },
  {
   "cell_type": "code",
   "execution_count": 16,
   "metadata": {},
   "outputs": [
    {
     "data": {
      "text/plain": [
       "2     211\n",
       "1     208\n",
       "10     86\n",
       "9      85\n",
       "3      84\n",
       "7      84\n",
       "8      80\n",
       "5      65\n",
       "4      64\n",
       "6      59\n",
       "16     32\n",
       "11     29\n",
       "24     28\n",
       "29     27\n",
       "23     27\n",
       "18     26\n",
       "15     26\n",
       "20     25\n",
       "25     25\n",
       "26     25\n",
       "28     23\n",
       "19     22\n",
       "14     21\n",
       "12     20\n",
       "17     20\n",
       "13     19\n",
       "22     19\n",
       "21     18\n",
       "27     12\n",
       "Name: DistanceFromHome, dtype: int64"
      ]
     },
     "execution_count": 16,
     "metadata": {},
     "output_type": "execute_result"
    }
   ],
   "source": [
    "data['DistanceFromHome'].value_counts()"
   ]
  },
  {
   "cell_type": "code",
   "execution_count": 17,
   "metadata": {},
   "outputs": [
    {
     "data": {
      "text/plain": [
       "count    1470.000000\n",
       "mean        9.192517\n",
       "std         8.106864\n",
       "min         1.000000\n",
       "25%         2.000000\n",
       "50%         7.000000\n",
       "75%        14.000000\n",
       "max        29.000000\n",
       "Name: DistanceFromHome, dtype: float64"
      ]
     },
     "execution_count": 17,
     "metadata": {},
     "output_type": "execute_result"
    }
   ],
   "source": [
    "data['DistanceFromHome'].describe()"
   ]
  },
  {
   "cell_type": "code",
   "execution_count": 18,
   "metadata": {
    "scrolled": true
   },
   "outputs": [
    {
     "data": {
      "text/plain": [
       "<function matplotlib.pyplot.show(*args, **kw)>"
      ]
     },
     "execution_count": 18,
     "metadata": {},
     "output_type": "execute_result"
    },
    {
     "data": {
      "image/png": "[encoded data removed]",
      "text/plain": [
       "<Figure size 432x288 with 1 Axes>"
      ]
     },
     "metadata": {
      "needs_background": "light"
     },
     "output_type": "display_data"
    }
   ],
   "source": [
    "bins_distance = np.arange(start=1, stop=29, step=2)\n",
    "plt.hist(data['DistanceFromHome'], bins = bins_distance,label=['DistanceFromHome'])\n",
    "plt.title('Distance From Home chart')\n",
    "plt.xlabel(\"DistanceFromHome\")\n",
    "plt.ylabel(\"Freq\")\n",
    "plt.legend(loc='upper right')\n",
    "plt.show"
   ]
  },
  {
   "cell_type": "code",
   "execution_count": 19,
   "metadata": {},
   "outputs": [],
   "source": [
    "data_f1_attrition1=data[data['Attrition']=='Yes']['DistanceFromHome']"
   ]
  },
  {
   "cell_type": "code",
   "execution_count": 20,
   "metadata": {
    "scrolled": true
   },
   "outputs": [
    {
     "data": {
      "text/plain": [
       "<function matplotlib.pyplot.show(*args, **kw)>"
      ]
     },
     "execution_count": 20,
     "metadata": {},
     "output_type": "execute_result"
    },
    {
     "data": {
      "image/png": "[encoded data removed]",
      "text/plain": [
       "<Figure size 432x288 with 1 Axes>"
      ]
     },
     "metadata": {
      "needs_background": "light"
     },
     "output_type": "display_data"
    }
   ],
   "source": [
    "bins_distance = np.arange(start=1, stop=29, step=2)\n",
    "plt.hist(data_f1_attrition1, bins = bins_distance, label=['DistanceFromHome, Still working'])\n",
    "plt.title('Distance From Home with attrition=1 chart')\n",
    "plt.xlabel(\"DistanceFromHome\")\n",
    "plt.ylabel(\"Freq\")\n",
    "plt.legend(loc='upper right')\n",
    "plt.show"
   ]
  },
  {
   "cell_type": "code",
   "execution_count": 21,
   "metadata": {},
   "outputs": [],
   "source": [
    "data_f1_attrition0=data[data['Attrition']==\"No\"]['DistanceFromHome']"
   ]
  },
  {
   "cell_type": "code",
   "execution_count": 22,
   "metadata": {
    "scrolled": false
   },
   "outputs": [
    {
     "data": {
      "text/plain": [
       "<function matplotlib.pyplot.show(*args, **kw)>"
      ]
     },
     "execution_count": 22,
     "metadata": {},
     "output_type": "execute_result"
    },
    {
     "data": {
      "image/png": "[encoded data removed]",
      "text/plain": [
       "<Figure size 432x288 with 1 Axes>"
      ]
     },
     "metadata": {
      "needs_background": "light"
     },
     "output_type": "display_data"
    }
   ],
   "source": [
    "bins_distance = np.arange(start=1, stop=29, step=2)\n",
    "plt.hist(data_f1_attrition0, bins = bins_distance,label=['DistanceFromHome, Resigned'])\n",
    "plt.title('Distance From Home with attrition=0 chart')\n",
    "plt.xlabel(\"DistanceFromHome\")\n",
    "plt.ylabel(\"Freq\")\n",
    "plt.legend(loc='upper right')\n",
    "plt.show"
   ]
  },
  {
   "cell_type": "markdown",
   "metadata": {},
   "source": [
    "# Hypothesis : The distance from home will impact the attrition rate."
   ]
  },
  {
   "cell_type": "markdown",
   "metadata": {},
   "source": [
    "<p><strong>H0</strong> : The distance from home don't impact the attrition rate </p>\n",
    "<strong>H1</strong> : The distance from home impact the attrition rate."
   ]
  },
  {
   "cell_type": "code",
   "execution_count": 23,
   "metadata": {
    "scrolled": true
   },
   "outputs": [
    {
     "data": {
      "text/plain": [
       "Ttest_1sampResult(statistic=2.6234277922535685, pvalue=0.009272331622219679)"
      ]
     },
     "execution_count": 23,
     "metadata": {},
     "output_type": "execute_result"
    }
   ],
   "source": [
    "stats.ttest_1samp(data_f1_attrition1, data['DistanceFromHome'].mean())"
   ]
  },
  {
   "cell_type": "code",
   "execution_count": 24,
   "metadata": {},
   "outputs": [
    {
     "name": "stdout",
     "output_type": "stream",
     "text": [
      "T-critical value: 1.970066853101121\n"
     ]
    }
   ],
   "source": [
    "print(\"T-critical value:\", stats.t.ppf(1-(0.05/2), len(data_f1_attrition1)-1))"
   ]
  },
  {
   "cell_type": "markdown",
   "metadata": {},
   "source": [
    "<B>We can see T-statistic > T-critical (2.6234277922535685 > 1.970066853101121). So we reject H0. The Distance from Home will impact the attrition rate. T-stattic is positive. So the higher employees have attrition rate, the farer they go to work."
   ]
  },
  {
   "cell_type": "markdown",
   "metadata": {},
   "source": [
    "# 3.2 Total Working Years :"
   ]
  },
  {
   "cell_type": "code",
   "execution_count": 25,
   "metadata": {
    "scrolled": false
   },
   "outputs": [
    {
     "data": {
      "text/plain": [
       "0     8\n",
       "1    10\n",
       "2     7\n",
       "3     8\n",
       "4     6\n",
       "Name: TotalWorkingYears, dtype: int64"
      ]
     },
     "execution_count": 25,
     "metadata": {},
     "output_type": "execute_result"
    }
   ],
   "source": [
    "data['TotalWorkingYears'].head()"
   ]
  },
  {
   "cell_type": "code",
   "execution_count": 26,
   "metadata": {},
   "outputs": [
    {
     "data": {
      "text/plain": [
       "10    202\n",
       "6     125\n",
       "8     103\n",
       "9      96\n",
       "5      88\n",
       "1      81\n",
       "7      81\n",
       "4      63\n",
       "12     48\n",
       "3      42\n",
       "15     40\n",
       "16     37\n",
       "13     36\n",
       "11     36\n",
       "21     34\n",
       "17     33\n",
       "14     31\n",
       "2      31\n",
       "20     30\n",
       "18     27\n",
       "19     22\n",
       "23     22\n",
       "22     21\n",
       "24     18\n",
       "25     14\n",
       "28     14\n",
       "26     14\n",
       "0      11\n",
       "29     10\n",
       "31      9\n",
       "32      9\n",
       "27      7\n",
       "30      7\n",
       "33      7\n",
       "36      6\n",
       "34      5\n",
       "37      4\n",
       "35      3\n",
       "40      2\n",
       "38      1\n",
       "Name: TotalWorkingYears, dtype: int64"
      ]
     },
     "execution_count": 26,
     "metadata": {},
     "output_type": "execute_result"
    }
   ],
   "source": [
    "data['TotalWorkingYears'].value_counts()"
   ]
  },
  {
   "cell_type": "code",
   "execution_count": 27,
   "metadata": {},
   "outputs": [
    {
     "data": {
      "text/plain": [
       "count    1470.000000\n",
       "mean       11.279592\n",
       "std         7.780782\n",
       "min         0.000000\n",
       "25%         6.000000\n",
       "50%        10.000000\n",
       "75%        15.000000\n",
       "max        40.000000\n",
       "Name: TotalWorkingYears, dtype: float64"
      ]
     },
     "execution_count": 27,
     "metadata": {},
     "output_type": "execute_result"
    }
   ],
   "source": [
    "data['TotalWorkingYears'].describe()"
   ]
  },
  {
   "cell_type": "code",
   "execution_count": 28,
   "metadata": {},
   "outputs": [
    {
     "data": {
      "text/plain": [
       "<function matplotlib.pyplot.show(*args, **kw)>"
      ]
     },
     "execution_count": 28,
     "metadata": {},
     "output_type": "execute_result"
    },
    {
     "data": {
      "image/png": "[encoded data removed]",
      "text/plain": [
       "<Figure size 432x288 with 1 Axes>"
      ]
     },
     "metadata": {
      "needs_background": "light"
     },
     "output_type": "display_data"
    }
   ],
   "source": [
    "bins_distance = np.arange(start=0, stop=40, step=5)\n",
    "plt.hist(data['TotalWorkingYears'], bins = bins_distance,label=['TotalWorkingYears'])\n",
    "plt.title('Total Working Years chart')\n",
    "plt.xlabel(\"TotalWorkingYears\")\n",
    "plt.ylabel(\"Freq\")\n",
    "plt.legend(loc='upper right')\n",
    "plt.show"
   ]
  },
  {
   "cell_type": "code",
   "execution_count": 29,
   "metadata": {
    "scrolled": true
   },
   "outputs": [
    {
     "data": {
      "text/plain": [
       "<function matplotlib.pyplot.show(*args, **kw)>"
      ]
     },
     "execution_count": 29,
     "metadata": {},
     "output_type": "execute_result"
    },
    {
     "data": {
      "image/png": "[encoded data removed]",
      "text/plain": [
       "<Figure size 432x288 with 1 Axes>"
      ]
     },
     "metadata": {
      "needs_background": "light"
     },
     "output_type": "display_data"
    }
   ],
   "source": [
    "data_f2_attrition1=data[data['Attrition']=='Yes']['TotalWorkingYears']\n",
    "bins_distance = np.arange(start=0, stop=40, step=5)\n",
    "plt.hist(data_f1_attrition1, bins = bins_distance, label=['TotalWorkingYears, Still working'])\n",
    "plt.title('Total Working Years with attrition=1 chart')\n",
    "plt.xlabel(\"TotalWorkingYears\")\n",
    "plt.ylabel(\"Freq\")\n",
    "plt.legend(loc='upper right')\n",
    "plt.show"
   ]
  },
  {
   "cell_type": "code",
   "execution_count": 30,
   "metadata": {
    "scrolled": true
   },
   "outputs": [
    {
     "data": {
      "text/plain": [
       "<function matplotlib.pyplot.show(*args, **kw)>"
      ]
     },
     "execution_count": 30,
     "metadata": {},
     "output_type": "execute_result"
    },
    {
     "data": {
      "image/png": "[encoded data removed]",
      "text/plain": [
       "<Figure size 432x288 with 1 Axes>"
      ]
     },
     "metadata": {
      "needs_background": "light"
     },
     "output_type": "display_data"
    }
   ],
   "source": [
    "data_f2_attrition0=data[data['Attrition']==\"No\"]['TotalWorkingYears']\n",
    "bins_distance = np.arange(start=0, stop=40, step=5)\n",
    "plt.hist(data_f1_attrition0, bins = bins_distance,label=['TotalWorkingYears, Resigned'])\n",
    "plt.title('Total Working Years with attrition=0 chart')\n",
    "plt.xlabel(\"TotalWorkingYears\")\n",
    "plt.ylabel(\"Freq\")\n",
    "plt.legend(loc='upper right')\n",
    "plt.show"
   ]
  },
  {
   "cell_type": "markdown",
   "metadata": {},
   "source": [
    "# Hypothesis : The total working years will impact the attrition rate."
   ]
  },
  {
   "cell_type": "markdown",
   "metadata": {},
   "source": [
    "<p><strong>H0</strong> : The total working years don't impact the attrition rate </p>\n",
    "<strong>H1</strong> : The total working years impact the attrition rate."
   ]
  },
  {
   "cell_type": "code",
   "execution_count": 31,
   "metadata": {},
   "outputs": [
    {
     "data": {
      "text/plain": [
       "Ttest_1sampResult(statistic=-6.516925900360393, pvalue=4.2999495770726643e-10)"
      ]
     },
     "execution_count": 31,
     "metadata": {},
     "output_type": "execute_result"
    }
   ],
   "source": [
    "stats.ttest_1samp(data_f2_attrition1, data['TotalWorkingYears'].mean())"
   ]
  },
  {
   "cell_type": "code",
   "execution_count": 32,
   "metadata": {},
   "outputs": [
    {
     "name": "stdout",
     "output_type": "stream",
     "text": [
      "T-critical value: 1.970066853101121\n"
     ]
    }
   ],
   "source": [
    "print(\"T-critical value:\", stats.t.ppf(1-(0.05/2), len(data_f2_attrition1)-1))"
   ]
  },
  {
   "cell_type": "markdown",
   "metadata": {},
   "source": [
    "<B>We can see |T-statistic| > |T-critical| (6.516925900360393 > 1.970066853101121). \n",
    "So we reject H0. The total working year will impact the attrition rate. T-stattic is negative. So the higher employees have attrition rate, the shorter year they work in the industry."
   ]
  },
  {
   "cell_type": "markdown",
   "metadata": {},
   "source": [
    "# 3.3. Monthly Income :"
   ]
  },
  {
   "cell_type": "code",
   "execution_count": 33,
   "metadata": {},
   "outputs": [
    {
     "data": {
      "text/plain": [
       "0    5993\n",
       "1    5130\n",
       "2    2090\n",
       "3    2909\n",
       "4    3468\n",
       "Name: MonthlyIncome, dtype: int64"
      ]
     },
     "execution_count": 33,
     "metadata": {},
     "output_type": "execute_result"
    }
   ],
   "source": [
    "data['MonthlyIncome'].head()"
   ]
  },
  {
   "cell_type": "code",
   "execution_count": 34,
   "metadata": {},
   "outputs": [
    {
     "data": {
      "text/plain": [
       "2342     4\n",
       "5562     3\n",
       "2741     3\n",
       "2451     3\n",
       "2610     3\n",
       "2380     3\n",
       "6142     3\n",
       "6347     3\n",
       "2559     3\n",
       "2404     3\n",
       "3452     3\n",
       "5769     2\n",
       "3420     2\n",
       "6397     2\n",
       "4306     2\n",
       "2743     2\n",
       "3760     2\n",
       "2720     2\n",
       "4779     2\n",
       "4284     2\n",
       "5238     2\n",
       "5228     2\n",
       "2269     2\n",
       "2996     2\n",
       "9980     2\n",
       "2782     2\n",
       "5204     2\n",
       "5993     2\n",
       "4197     2\n",
       "7756     2\n",
       "        ..\n",
       "3743     1\n",
       "13582    1\n",
       "7457     1\n",
       "13603    1\n",
       "11557    1\n",
       "1081     1\n",
       "5415     1\n",
       "5486     1\n",
       "13610    1\n",
       "7441     1\n",
       "10851    1\n",
       "19701    1\n",
       "5376     1\n",
       "11510    1\n",
       "3319     1\n",
       "5368     1\n",
       "1274     1\n",
       "17169    1\n",
       "3491     1\n",
       "2011     1\n",
       "1281     1\n",
       "3375     1\n",
       "13570    1\n",
       "8564     1\n",
       "7428     1\n",
       "5381     1\n",
       "13577    1\n",
       "12965    1\n",
       "3339     1\n",
       "14336    1\n",
       "Name: MonthlyIncome, Length: 1349, dtype: int64"
      ]
     },
     "execution_count": 34,
     "metadata": {},
     "output_type": "execute_result"
    }
   ],
   "source": [
    "data['MonthlyIncome'].value_counts()"
   ]
  },
  {
   "cell_type": "code",
   "execution_count": 35,
   "metadata": {},
   "outputs": [
    {
     "data": {
      "text/plain": [
       "count     1470.000000\n",
       "mean      6502.931293\n",
       "std       4707.956783\n",
       "min       1009.000000\n",
       "25%       2911.000000\n",
       "50%       4919.000000\n",
       "75%       8379.000000\n",
       "max      19999.000000\n",
       "Name: MonthlyIncome, dtype: float64"
      ]
     },
     "execution_count": 35,
     "metadata": {},
     "output_type": "execute_result"
    }
   ],
   "source": [
    "data['MonthlyIncome'].describe()"
   ]
  },
  {
   "cell_type": "code",
   "execution_count": 36,
   "metadata": {},
   "outputs": [
    {
     "data": {
      "text/plain": [
       "<function matplotlib.pyplot.show(*args, **kw)>"
      ]
     },
     "execution_count": 36,
     "metadata": {},
     "output_type": "execute_result"
    },
    {
     "data": {
      "image/png": "[encoded data removed]",
      "text/plain": [
       "<Figure size 432x288 with 1 Axes>"
      ]
     },
     "metadata": {
      "needs_background": "light"
     },
     "output_type": "display_data"
    }
   ],
   "source": [
    "bins_distance = np.arange(start=1000, stop=20000, step=1000)\n",
    "plt.hist(data['MonthlyIncome'], bins = bins_distance,label=['MonthlyIncome'])\n",
    "plt.title('Monthly Income chart')\n",
    "plt.xlabel(\"MonthlyIncome\")\n",
    "plt.ylabel(\"Freq\")\n",
    "plt.legend(loc='upper right')\n",
    "plt.show"
   ]
  },
  {
   "cell_type": "code",
   "execution_count": 37,
   "metadata": {},
   "outputs": [
    {
     "data": {
      "text/plain": [
       "<function matplotlib.pyplot.show(*args, **kw)>"
      ]
     },
     "execution_count": 37,
     "metadata": {},
     "output_type": "execute_result"
    },
    {
     "data": {
      "image/png": "[encoded data removed]",
      "text/plain": [
       "<Figure size 432x288 with 1 Axes>"
      ]
     },
     "metadata": {
      "needs_background": "light"
     },
     "output_type": "display_data"
    }
   ],
   "source": [
    "data_f3_attrition1=data[data['Attrition']=='Yes']['MonthlyIncome']\n",
    "bins_distance = np.arange(start=1000, stop=20000, step=1000)\n",
    "plt.hist(data_f3_attrition1, bins = bins_distance, label=['MonthlyIncome, Still working'])\n",
    "plt.title('Monthly Income with attrition=1 chart')\n",
    "plt.xlabel(\"MonthlyIncome\")\n",
    "plt.ylabel(\"Freq\")\n",
    "plt.legend(loc='upper right')\n",
    "plt.show"
   ]
  },
  {
   "cell_type": "code",
   "execution_count": 38,
   "metadata": {},
   "outputs": [
    {
     "data": {
      "text/plain": [
       "<function matplotlib.pyplot.show(*args, **kw)>"
      ]
     },
     "execution_count": 38,
     "metadata": {},
     "output_type": "execute_result"
    },
    {
     "data": {
      "image/png": "[encoded data removed]",
      "text/plain": [
       "<Figure size 432x288 with 1 Axes>"
      ]
     },
     "metadata": {
      "needs_background": "light"
     },
     "output_type": "display_data"
    }
   ],
   "source": [
    "data_f3_attrition0=data[data['Attrition']=='No']['MonthlyIncome']\n",
    "bins_distance = np.arange(start=1000, stop=20000, step=1000)\n",
    "plt.hist(data_f3_attrition0, bins = bins_distance, label=['MonthlyIncome, Resigned'])\n",
    "plt.title('Monthly Income with attrition=0 chart')\n",
    "plt.xlabel(\"MonthlyIncome\")\n",
    "plt.ylabel(\"Freq\")\n",
    "plt.legend(loc='upper right')\n",
    "plt.show"
   ]
  },
  {
   "cell_type": "markdown",
   "metadata": {},
   "source": [
    "# Hypothesis : The monthly income will impact the attrition rate."
   ]
  },
  {
   "cell_type": "markdown",
   "metadata": {},
   "source": [
    "<p><strong>H0</strong> : The monthly income don't impact the attrition rate </p>\n",
    "<strong>H1</strong> : The monthly income impact the attrition rate.\n"
   ]
  },
  {
   "cell_type": "code",
   "execution_count": 39,
   "metadata": {},
   "outputs": [
    {
     "data": {
      "text/plain": [
       "Ttest_1sampResult(statistic=-7.256448049585389, pvalue=5.693274853957249e-12)"
      ]
     },
     "execution_count": 39,
     "metadata": {},
     "output_type": "execute_result"
    }
   ],
   "source": [
    "stats.ttest_1samp(data_f3_attrition1, data['MonthlyIncome'].mean())"
   ]
  },
  {
   "cell_type": "code",
   "execution_count": 40,
   "metadata": {},
   "outputs": [
    {
     "name": "stdout",
     "output_type": "stream",
     "text": [
      "T-critical value: 1.970066853101121\n"
     ]
    }
   ],
   "source": [
    "print(\"T-critical value:\", stats.t.ppf(1-(0.05/2), len(data_f3_attrition1)-1))"
   ]
  },
  {
   "cell_type": "markdown",
   "metadata": {},
   "source": [
    "<B>We can see T-statistic > T-critical (2.4035749150305388 > 1.96189139030643). So we reject H0. The Monthly Income will impact the attrition rate. T-stattic is positive. So the higher employees have attrition rate, the higher salary they are paid."
   ]
  },
  {
   "cell_type": "markdown",
   "metadata": {},
   "source": [
    "# 3.4. Education :"
   ]
  },
  {
   "cell_type": "code",
   "execution_count": 41,
   "metadata": {},
   "outputs": [
    {
     "data": {
      "text/plain": [
       "0    2\n",
       "1    1\n",
       "2    2\n",
       "3    4\n",
       "4    1\n",
       "Name: Education, dtype: int64"
      ]
     },
     "execution_count": 41,
     "metadata": {},
     "output_type": "execute_result"
    }
   ],
   "source": [
    "data['Education'].head()"
   ]
  },
  {
   "cell_type": "code",
   "execution_count": 42,
   "metadata": {},
   "outputs": [
    {
     "data": {
      "text/plain": [
       "3    572\n",
       "4    398\n",
       "2    282\n",
       "1    170\n",
       "5     48\n",
       "Name: Education, dtype: int64"
      ]
     },
     "execution_count": 42,
     "metadata": {},
     "output_type": "execute_result"
    }
   ],
   "source": [
    "data['Education'].value_counts()"
   ]
  },
  {
   "cell_type": "code",
   "execution_count": 43,
   "metadata": {},
   "outputs": [
    {
     "data": {
      "text/plain": [
       "count    1470.000000\n",
       "mean        2.912925\n",
       "std         1.024165\n",
       "min         1.000000\n",
       "25%         2.000000\n",
       "50%         3.000000\n",
       "75%         4.000000\n",
       "max         5.000000\n",
       "Name: Education, dtype: float64"
      ]
     },
     "execution_count": 43,
     "metadata": {},
     "output_type": "execute_result"
    }
   ],
   "source": [
    "data['Education'].describe()"
   ]
  },
  {
   "cell_type": "code",
   "execution_count": 44,
   "metadata": {},
   "outputs": [
    {
     "data": {
      "text/plain": [
       "<function matplotlib.pyplot.show(*args, **kw)>"
      ]
     },
     "execution_count": 44,
     "metadata": {},
     "output_type": "execute_result"
    },
    {
     "data": {
      "image/png": "[encoded data removed]",
      "text/plain": [
       "<Figure size 432x288 with 1 Axes>"
      ]
     },
     "metadata": {
      "needs_background": "light"
     },
     "output_type": "display_data"
    }
   ],
   "source": [
    "bins_distance = np.arange(start=1, stop=5, step=1)\n",
    "plt.hist(data['Education'], bins = bins_distance,label=['Education'])\n",
    "plt.title('Education level chart')\n",
    "plt.xlabel(\"Education\")\n",
    "plt.ylabel(\"Freq\")\n",
    "plt.legend(loc='upper right')\n",
    "plt.show"
   ]
  },
  {
   "cell_type": "code",
   "execution_count": 45,
   "metadata": {},
   "outputs": [
    {
     "data": {
      "text/plain": [
       "<function matplotlib.pyplot.show(*args, **kw)>"
      ]
     },
     "execution_count": 45,
     "metadata": {},
     "output_type": "execute_result"
    },
    {
     "data": {
      "image/png": "[encoded data removed]",
      "text/plain": [
       "<Figure size 432x288 with 1 Axes>"
      ]
     },
     "metadata": {
      "needs_background": "light"
     },
     "output_type": "display_data"
    }
   ],
   "source": [
    "data_f4_attrition1=data[data['Attrition']=='Yes']['Education']\n",
    "bins_distance = np.arange(start=1, stop=5, step=1)\n",
    "plt.hist(data_f4_attrition1, bins = bins_distance, label=['Education, Still working'])\n",
    "plt.title('Education with attrition=1 chart')\n",
    "plt.xlabel(\"Education\")\n",
    "plt.ylabel(\"Freq\")\n",
    "plt.legend(loc='upper right')\n",
    "plt.show"
   ]
  },
  {
   "cell_type": "code",
   "execution_count": 46,
   "metadata": {
    "scrolled": true
   },
   "outputs": [
    {
     "data": {
      "text/plain": [
       "<function matplotlib.pyplot.show(*args, **kw)>"
      ]
     },
     "execution_count": 46,
     "metadata": {},
     "output_type": "execute_result"
    },
    {
     "data": {
      "image/png": "[encoded data removed]",
      "text/plain": [
       "<Figure size 432x288 with 1 Axes>"
      ]
     },
     "metadata": {
      "needs_background": "light"
     },
     "output_type": "display_data"
    }
   ],
   "source": [
    "data_f4_attrition0=data[data['Attrition']=='No']['Education']\n",
    "bins_distance = np.arange(start=1, stop=5, step=1)\n",
    "plt.hist(data_f4_attrition0, bins = bins_distance, label=['Education,  Resigned'])\n",
    "plt.title('Education with attrition=1 chart')\n",
    "plt.xlabel(\"Education\")\n",
    "plt.ylabel(\"Freq\")\n",
    "plt.legend(loc='upper right')\n",
    "plt.show"
   ]
  },
  {
   "cell_type": "markdown",
   "metadata": {},
   "source": [
    "# Hypothesis : The Education won't impact the attrition rate."
   ]
  },
  {
   "cell_type": "markdown",
   "metadata": {},
   "source": [
    "<p><strong>H0</strong> : The education don't impact the attrition rate </p>\n",
    "<strong>H1</strong> : The education impact the attrition rate."
   ]
  },
  {
   "cell_type": "code",
   "execution_count": 47,
   "metadata": {},
   "outputs": [
    {
     "data": {
      "text/plain": [
       "Ttest_1sampResult(statistic=-1.1186432672619724, pvalue=0.2644296867320878)"
      ]
     },
     "execution_count": 47,
     "metadata": {},
     "output_type": "execute_result"
    }
   ],
   "source": [
    "stats.ttest_1samp(data_f4_attrition1, data['Education'].mean())"
   ]
  },
  {
   "cell_type": "code",
   "execution_count": 48,
   "metadata": {},
   "outputs": [
    {
     "name": "stdout",
     "output_type": "stream",
     "text": [
      "T-critical value: 1.970066853101121\n"
     ]
    }
   ],
   "source": [
    "print(\"T-critical value:\", stats.t.ppf(1-(0.05/2), len(data_f4_attrition1)-1))"
   ]
  },
  {
   "cell_type": "markdown",
   "metadata": {},
   "source": [
    "<B>We can see |T-statistic| < |T-critical| (1.1186432672619724 < 1.970066853101121). So we can not reject H0. The Education don't impact the attrition rate."
   ]
  },
  {
   "cell_type": "markdown",
   "metadata": {},
   "source": [
    "# 3.5. Number companies worked :"
   ]
  },
  {
   "cell_type": "code",
   "execution_count": 49,
   "metadata": {},
   "outputs": [
    {
     "data": {
      "text/plain": [
       "0    8\n",
       "1    1\n",
       "2    6\n",
       "3    1\n",
       "4    9\n",
       "Name: NumCompaniesWorked, dtype: int64"
      ]
     },
     "execution_count": 49,
     "metadata": {},
     "output_type": "execute_result"
    }
   ],
   "source": [
    "data['NumCompaniesWorked'].head()"
   ]
  },
  {
   "cell_type": "code",
   "execution_count": 50,
   "metadata": {},
   "outputs": [
    {
     "data": {
      "text/plain": [
       "1    521\n",
       "0    197\n",
       "3    159\n",
       "2    146\n",
       "4    139\n",
       "7     74\n",
       "6     70\n",
       "5     63\n",
       "9     52\n",
       "8     49\n",
       "Name: NumCompaniesWorked, dtype: int64"
      ]
     },
     "execution_count": 50,
     "metadata": {},
     "output_type": "execute_result"
    }
   ],
   "source": [
    "data['NumCompaniesWorked'].value_counts()"
   ]
  },
  {
   "cell_type": "code",
   "execution_count": 51,
   "metadata": {},
   "outputs": [
    {
     "data": {
      "text/plain": [
       "count    1470.000000\n",
       "mean        2.693197\n",
       "std         2.498009\n",
       "min         0.000000\n",
       "25%         1.000000\n",
       "50%         2.000000\n",
       "75%         4.000000\n",
       "max         9.000000\n",
       "Name: NumCompaniesWorked, dtype: float64"
      ]
     },
     "execution_count": 51,
     "metadata": {},
     "output_type": "execute_result"
    }
   ],
   "source": [
    "data['NumCompaniesWorked'].describe()"
   ]
  },
  {
   "cell_type": "code",
   "execution_count": 52,
   "metadata": {},
   "outputs": [
    {
     "data": {
      "text/plain": [
       "<function matplotlib.pyplot.show(*args, **kw)>"
      ]
     },
     "execution_count": 52,
     "metadata": {},
     "output_type": "execute_result"
    },
    {
     "data": {
      "image/png": "[encoded data removed]",
      "text/plain": [
       "<Figure size 432x288 with 1 Axes>"
      ]
     },
     "metadata": {
      "needs_background": "light"
     },
     "output_type": "display_data"
    }
   ],
   "source": [
    "bins_distance = np.arange(start=0, stop=9, step=1)\n",
    "plt.hist(data['NumCompaniesWorked'], bins = bins_distance,label=['NumCompaniesWorked'])\n",
    "plt.title('Num Companies Worked chart')\n",
    "plt.xlabel(\"NumCompaniesWorked\")\n",
    "plt.ylabel(\"Freq\")\n",
    "plt.legend(loc='upper right')\n",
    "plt.show"
   ]
  },
  {
   "cell_type": "code",
   "execution_count": 53,
   "metadata": {},
   "outputs": [
    {
     "data": {
      "text/plain": [
       "<function matplotlib.pyplot.show(*args, **kw)>"
      ]
     },
     "execution_count": 53,
     "metadata": {},
     "output_type": "execute_result"
    },
    {
     "data": {
      "image/png": "[encoded data removed]",
      "text/plain": [
       "<Figure size 432x288 with 1 Axes>"
      ]
     },
     "metadata": {
      "needs_background": "light"
     },
     "output_type": "display_data"
    }
   ],
   "source": [
    "data_f5_attrition1=data[data['Attrition']=='Yes']['NumCompaniesWorked']\n",
    "bins_distance = np.arange(start=0, stop=9, step=1)\n",
    "plt.hist(data_f1_attrition1, bins = bins_distance, label=['NumCompaniesWorked, Still working'])\n",
    "plt.title('Num Companies Worked with attrition=1 chart')\n",
    "plt.xlabel(\"NumCompaniesWorked\")\n",
    "plt.ylabel(\"Freq\")\n",
    "plt.legend(loc='upper right')\n",
    "plt.show"
   ]
  },
  {
   "cell_type": "code",
   "execution_count": 54,
   "metadata": {},
   "outputs": [
    {
     "data": {
      "text/plain": [
       "<function matplotlib.pyplot.show(*args, **kw)>"
      ]
     },
     "execution_count": 54,
     "metadata": {},
     "output_type": "execute_result"
    },
    {
     "data": {
      "image/png": "[encoded data removed]",
      "text/plain": [
       "<Figure size 432x288 with 1 Axes>"
      ]
     },
     "metadata": {
      "needs_background": "light"
     },
     "output_type": "display_data"
    }
   ],
   "source": [
    "data_f5_attrition0=data[data['Attrition']=='No']['NumCompaniesWorked']\n",
    "bins_distance = np.arange(start=0, stop=9, step=1)\n",
    "plt.hist(data_f1_attrition0, bins = bins_distance, label=['NumCompaniesWorked, Resigned'])\n",
    "plt.title('Num Companies Worked with attrition=0 chart')\n",
    "plt.xlabel(\"NumCompaniesWorked\")\n",
    "plt.ylabel(\"Freq\")\n",
    "plt.legend(loc='upper right')\n",
    "plt.show"
   ]
  },
  {
   "cell_type": "markdown",
   "metadata": {},
   "source": [
    "# Hypothesis : The Num Companies Worked will impact the attrition rate."
   ]
  },
  {
   "cell_type": "markdown",
   "metadata": {},
   "source": [
    "<p><strong>H0</strong> : The Num Companies Worked don't impact the attrition rate </p>\n",
    "<strong>H1</strong> : The Num Companies Worked impact the attrition rate."
   ]
  },
  {
   "cell_type": "code",
   "execution_count": 55,
   "metadata": {},
   "outputs": [
    {
     "data": {
      "text/plain": [
       "Ttest_1sampResult(statistic=1.4238356021660938, pvalue=0.1558148481629175)"
      ]
     },
     "execution_count": 55,
     "metadata": {},
     "output_type": "execute_result"
    }
   ],
   "source": [
    "stats.ttest_1samp(data_f5_attrition1, data['NumCompaniesWorked'].mean())"
   ]
  },
  {
   "cell_type": "code",
   "execution_count": 56,
   "metadata": {},
   "outputs": [
    {
     "name": "stdout",
     "output_type": "stream",
     "text": [
      "T-critical value: 1.970066853101121\n"
     ]
    }
   ],
   "source": [
    "print(\"T-critical value:\", stats.t.ppf(1-(0.05/2), len(data_f5_attrition1)-1))"
   ]
  },
  {
   "cell_type": "markdown",
   "metadata": {},
   "source": [
    "<B>We can see T-statistic < T-critical (1.4238356021660938 < 1.970066853101121). So we can't reject H0. The Num Companies Worked don't impact the attrition rate."
   ]
  },
  {
   "cell_type": "markdown",
   "metadata": {},
   "source": [
    "# Conclution : The key factors which are playing into the current attrition rate are DistanceFromHome, MonthlyIncome, TotalWorkingYears."
   ]
  },
  {
   "cell_type": "markdown",
   "metadata": {},
   "source": [
    "# When are employees leaving?"
   ]
  },
  {
   "cell_type": "code",
   "execution_count": 64,
   "metadata": {},
   "outputs": [
    {
     "name": "stdout",
     "output_type": "stream",
     "text": [
      "Employee will leave when: Distance from home =  10.632911392405063 ; Total working years =  8.244725738396625 ; Monthly income =  4787.0928270042195\n"
     ]
    }
   ],
   "source": [
    "print(\"Employee will leave when: Distance from home = \",data_f1_attrition1.mean(), \"; Total working years = \", data_f2_attrition1.mean(),\"; Monthly income = \",data_f3_attrition1.mean())"
   ]
  },
  {
   "cell_type": "markdown",
   "metadata": {},
   "source": [
    "<h1 style=\"color:Green;\"> The end ^.^</h1>"
   ]
  }
 ],
 "metadata": {
  "kernelspec": {
   "display_name": "Python 3",
   "language": "python",
   "name": "python3"
  },
  "language_info": {
   "codemirror_mode": {
    "name": "ipython",
    "version": 3
   },
   "file_extension": ".py",
   "mimetype": "text/x-python",
   "name": "python",
   "nbconvert_exporter": "python",
   "pygments_lexer": "ipython3",
   "version": "3.7.3"
  }
 },
 "nbformat": 4,
 "nbformat_minor": 2
}
